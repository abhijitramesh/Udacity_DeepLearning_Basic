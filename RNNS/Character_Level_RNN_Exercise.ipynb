{
  "nbformat": 4,
  "nbformat_minor": 0,
  "metadata": {
    "kernelspec": {
      "name": "python3",
      "display_name": "Python 3"
    },
    "language_info": {
      "codemirror_mode": {
        "name": "ipython",
        "version": 3
      },
      "file_extension": ".py",
      "mimetype": "text/x-python",
      "name": "python",
      "nbconvert_exporter": "python",
      "pygments_lexer": "ipython3",
      "version": "3.6.4"
    },
    "colab": {
      "name": "Character_Level_RNN_Exercise.ipynb",
      "provenance": []
    },
    "accelerator": "GPU"
  },
  "cells": [
    {
      "cell_type": "markdown",
      "metadata": {
        "id": "_4Ni6wkxdz2-",
        "colab_type": "text"
      },
      "source": [
        "# Character-Level LSTM in PyTorch\n",
        "\n",
        "In this notebook, I'll construct a character-level LSTM with PyTorch. The network will train character by character on some text, then generate new text character by character. As an example, I will train on Anna Karenina. **This model will be able to generate new text based on the text from the book!**\n",
        "\n",
        "This network is based off of Andrej Karpathy's [post on RNNs](http://karpathy.github.io/2015/05/21/rnn-effectiveness/) and [implementation in Torch](https://github.com/karpathy/char-rnn). Below is the general architecture of the character-wise RNN.\n",
        "\n",
        "<img src=\"https://github.com/udacity/deep-learning-v2-pytorch/blob/master/recurrent-neural-networks/char-rnn/assets/charseq.jpeg?raw=1\" width=\"500\">"
      ]
    },
    {
      "cell_type": "markdown",
      "metadata": {
        "id": "wESyUPGddz3C",
        "colab_type": "text"
      },
      "source": [
        "First let's load in our required resources for data loading and model creation."
      ]
    },
    {
      "cell_type": "code",
      "metadata": {
        "id": "C3VDlAAUdz3D",
        "colab_type": "code",
        "colab": {}
      },
      "source": [
        "import numpy as np\n",
        "import torch\n",
        "from torch import nn\n",
        "import torch.nn.functional as F"
      ],
      "execution_count": 0,
      "outputs": []
    },
    {
      "cell_type": "markdown",
      "metadata": {
        "id": "3q_BiUFmdz3K",
        "colab_type": "text"
      },
      "source": [
        "## Load in Data\n",
        "\n",
        "Then, we'll load the Anna Karenina text file and convert it into integers for our network to use. "
      ]
    },
    {
      "cell_type": "code",
      "metadata": {
        "id": "D4b2kdfPdz3L",
        "colab_type": "code",
        "colab": {}
      },
      "source": [
        "# open text file and read in data as `text`\n",
        "with open('anna.txt', 'r') as f:\n",
        "    text = f.read()"
      ],
      "execution_count": 0,
      "outputs": []
    },
    {
      "cell_type": "markdown",
      "metadata": {
        "id": "ReWL5jiddz3O",
        "colab_type": "text"
      },
      "source": [
        "Let's check out the first 100 characters, make sure everything is peachy. According to the [American Book Review](http://americanbookreview.org/100bestlines.asp), this is the 6th best first line of a book ever."
      ]
    },
    {
      "cell_type": "code",
      "metadata": {
        "id": "5D5LjhS_dz3P",
        "colab_type": "code",
        "colab": {
          "base_uri": "https://localhost:8080/",
          "height": 34
        },
        "outputId": "a15c2a15-6bf0-4d5c-fc3c-91a11f35ab48"
      },
      "source": [
        "text[:100]"
      ],
      "execution_count": 3,
      "outputs": [
        {
          "output_type": "execute_result",
          "data": {
            "text/plain": [
              "'Chapter 1\\n\\n\\nHappy families are all alike; every unhappy family is unhappy in its own\\nway.\\n\\nEverythin'"
            ]
          },
          "metadata": {
            "tags": []
          },
          "execution_count": 3
        }
      ]
    },
    {
      "cell_type": "markdown",
      "metadata": {
        "id": "tL6JgQE5dz3R",
        "colab_type": "text"
      },
      "source": [
        "### Tokenization\n",
        "\n",
        "In the cells, below, I'm creating a couple **dictionaries** to convert the characters to and from integers. Encoding the characters as integers makes it easier to use as input in the network."
      ]
    },
    {
      "cell_type": "code",
      "metadata": {
        "id": "nTFwgAG8dz3S",
        "colab_type": "code",
        "colab": {}
      },
      "source": [
        "# encode the text and map each character to an integer and vice versa\n",
        "\n",
        "# we create two dictionaries:\n",
        "# 1. int2char, which maps integers to characters\n",
        "# 2. char2int, which maps characters to unique integers\n",
        "chars = tuple(set(text))\n",
        "int2char = dict(enumerate(chars))\n",
        "char2int = {ch: ii for ii, ch in int2char.items()}\n",
        "\n",
        "# encode the text\n",
        "encoded = np.array([char2int[ch] for ch in text])"
      ],
      "execution_count": 0,
      "outputs": []
    },
    {
      "cell_type": "markdown",
      "metadata": {
        "id": "02cotLjtdz3U",
        "colab_type": "text"
      },
      "source": [
        "And we can see those same characters from above, encoded as integers."
      ]
    },
    {
      "cell_type": "code",
      "metadata": {
        "id": "LQjBK9LEdz3V",
        "colab_type": "code",
        "colab": {
          "base_uri": "https://localhost:8080/",
          "height": 119
        },
        "outputId": "da63768e-26ae-4a53-e141-24ec7ad7fa14"
      },
      "source": [
        "encoded[:100]"
      ],
      "execution_count": 5,
      "outputs": [
        {
          "output_type": "execute_result",
          "data": {
            "text/plain": [
              "array([17, 35, 45, 66, 70, 47, 12, 43, 22, 19, 19, 19, 18, 45, 66, 66, 40,\n",
              "       43, 38, 45, 63, 52, 51, 52, 47, 31, 43, 45, 12, 47, 43, 45, 51, 51,\n",
              "       43, 45, 51, 52, 67, 47, 61, 43, 47, 73, 47, 12, 40, 43, 24, 15, 35,\n",
              "       45, 66, 66, 40, 43, 38, 45, 63, 52, 51, 40, 43, 52, 31, 43, 24, 15,\n",
              "       35, 45, 66, 66, 40, 43, 52, 15, 43, 52, 70, 31, 43, 68, 80, 15, 19,\n",
              "       80, 45, 40, 39, 19, 19, 74, 73, 47, 12, 40, 70, 35, 52, 15])"
            ]
          },
          "metadata": {
            "tags": []
          },
          "execution_count": 5
        }
      ]
    },
    {
      "cell_type": "markdown",
      "metadata": {
        "id": "QBeW5JaOdz3X",
        "colab_type": "text"
      },
      "source": [
        "## Pre-processing the data\n",
        "\n",
        "As you can see in our char-RNN image above, our LSTM expects an input that is **one-hot encoded** meaning that each character is converted into an integer (via our created dictionary) and *then* converted into a column vector where only it's corresponding integer index will have the value of 1 and the rest of the vector will be filled with 0's. Since we're one-hot encoding the data, let's make a function to do that!\n"
      ]
    },
    {
      "cell_type": "code",
      "metadata": {
        "id": "Uj3dBfrgdz3X",
        "colab_type": "code",
        "colab": {}
      },
      "source": [
        "def one_hot_encode(arr, n_labels):\n",
        "    \n",
        "    # Initialize the the encoded array\n",
        "    one_hot = np.zeros((arr.size, n_labels), dtype=np.float32)\n",
        "    \n",
        "    # Fill the appropriate elements with ones\n",
        "    one_hot[np.arange(one_hot.shape[0]), arr.flatten()] = 1.\n",
        "    \n",
        "    # Finally reshape it to get back to the original array\n",
        "    one_hot = one_hot.reshape((*arr.shape, n_labels))\n",
        "    \n",
        "    return one_hot"
      ],
      "execution_count": 0,
      "outputs": []
    },
    {
      "cell_type": "code",
      "metadata": {
        "id": "xkR722Axdz3Z",
        "colab_type": "code",
        "colab": {
          "base_uri": "https://localhost:8080/",
          "height": 68
        },
        "outputId": "93e4bfc7-92c7-41ab-e60a-89a9b70831da"
      },
      "source": [
        "# check that the function works as expected\n",
        "test_seq = np.array([[3, 5, 1]])\n",
        "one_hot = one_hot_encode(test_seq, 8)\n",
        "\n",
        "print(one_hot)"
      ],
      "execution_count": 7,
      "outputs": [
        {
          "output_type": "stream",
          "text": [
            "[[[0. 0. 0. 1. 0. 0. 0. 0.]\n",
            "  [0. 0. 0. 0. 0. 1. 0. 0.]\n",
            "  [0. 1. 0. 0. 0. 0. 0. 0.]]]\n"
          ],
          "name": "stdout"
        }
      ]
    },
    {
      "cell_type": "markdown",
      "metadata": {
        "id": "pKHSSqIOdz3b",
        "colab_type": "text"
      },
      "source": [
        "## Making training mini-batches\n",
        "\n",
        "\n",
        "To train on this data, we also want to create mini-batches for training. Remember that we want our batches to be multiple sequences of some desired number of sequence steps. Considering a simple example, our batches would look like this:\n",
        "\n",
        "<img src=\"https://github.com/udacity/deep-learning-v2-pytorch/blob/master/recurrent-neural-networks/char-rnn/assets/sequence_batching@1x.png?raw=1\" width=500px>\n",
        "\n",
        "\n",
        "<br>\n",
        "\n",
        "In this example, we'll take the encoded characters (passed in as the `arr` parameter) and split them into multiple sequences, given by `batch_size`. Each of our sequences will be `seq_length` long.\n",
        "\n",
        "### Creating Batches\n",
        "\n",
        "**1. The first thing we need to do is discard some of the text so we only have completely full mini-batches. **\n",
        "\n",
        "Each batch contains $N \\times M$ characters, where $N$ is the batch size (the number of sequences in a batch) and $M$ is the seq_length or number of time steps in a sequence. Then, to get the total number of batches, $K$, that we can make from the array `arr`, you divide the length of `arr` by the number of characters per batch. Once you know the number of batches, you can get the total number of characters to keep from `arr`, $N * M * K$.\n",
        "\n",
        "**2. After that, we need to split `arr` into $N$ batches. ** \n",
        "\n",
        "You can do this using `arr.reshape(size)` where `size` is a tuple containing the dimensions sizes of the reshaped array. We know we want $N$ sequences in a batch, so let's make that the size of the first dimension. For the second dimension, you can use `-1` as a placeholder in the size, it'll fill up the array with the appropriate data for you. After this, you should have an array that is $N \\times (M * K)$.\n",
        "\n",
        "**3. Now that we have this array, we can iterate through it to get our mini-batches. **\n",
        "\n",
        "The idea is each batch is a $N \\times M$ window on the $N \\times (M * K)$ array. For each subsequent batch, the window moves over by `seq_length`. We also want to create both the input and target arrays. Remember that the targets are just the inputs shifted over by one character. The way I like to do this window is use `range` to take steps of size `n_steps` from $0$ to `arr.shape[1]`, the total number of tokens in each sequence. That way, the integers you get from `range` always point to the start of a batch, and each window is `seq_length` wide.\n",
        "\n",
        "> **TODO:** Write the code for creating batches in the function below. The exercises in this notebook _will not be easy_. I've provided a notebook with solutions alongside this notebook. If you get stuck, checkout the solutions. The most important thing is that you don't copy and paste the code into here, **type out the solution code yourself.**"
      ]
    },
    {
      "cell_type": "code",
      "metadata": {
        "id": "edDIssBkdz3c",
        "colab_type": "code",
        "colab": {}
      },
      "source": [
        "def get_batches(arr, batch_size, seq_length):\n",
        "    '''Create a generator that returns batches of size\n",
        "       batch_size x seq_length from arr.\n",
        "       \n",
        "       Arguments\n",
        "       ---------\n",
        "       arr: Array you want to make batches from\n",
        "       batch_size: Batch size, the number of sequences per batch\n",
        "       seq_length: Number of encoded chars in a sequence\n",
        "    '''\n",
        "    \n",
        "    batch_size_total = batch_size * seq_length\n",
        "    # total number of batches we can make\n",
        "    n_batches = len(arr)//batch_size_total\n",
        "    \n",
        "    # Keep only enough characters to make full batches\n",
        "    arr = arr[:n_batches * batch_size_total]\n",
        "    # Reshape into batch_size rows\n",
        "    arr = arr.reshape((batch_size, -1))\n",
        "    ## TODO: Iterate over the batches using a window of size seq_length\n",
        "    for n in range(0, arr.shape[1], seq_length):\n",
        "        # The features\n",
        "        x = arr[:, n:n+seq_length]\n",
        "        # The targets, shifted by one\n",
        "        y = np.zeros_like(x)\n",
        "        try:\n",
        "            y[:, :-1], y[:, -1] = x[:, 1:], arr[:, n+seq_length]\n",
        "        except IndexError:\n",
        "            y[:, :-1], y[:, -1] = x[:, 1:], arr[:, 0]\n",
        "        yield x, y"
      ],
      "execution_count": 0,
      "outputs": []
    },
    {
      "cell_type": "markdown",
      "metadata": {
        "id": "RFOc-Dtldz3d",
        "colab_type": "text"
      },
      "source": [
        "### Test Your Implementation\n",
        "\n",
        "Now I'll make some data sets and we can check out what's going on as we batch data. Here, as an example, I'm going to use a batch size of 8 and 50 sequence steps."
      ]
    },
    {
      "cell_type": "code",
      "metadata": {
        "id": "Gz4xYCwOdz3e",
        "colab_type": "code",
        "colab": {}
      },
      "source": [
        "batches = get_batches(encoded, 8, 50)\n",
        "x, y = next(batches)"
      ],
      "execution_count": 0,
      "outputs": []
    },
    {
      "cell_type": "code",
      "metadata": {
        "id": "DclqAmDxdz3g",
        "colab_type": "code",
        "colab": {
          "base_uri": "https://localhost:8080/",
          "height": 340
        },
        "outputId": "d310fba3-9dd5-453b-d402-44905c0d5548"
      },
      "source": [
        "# printing out the first 10 items in a sequence\n",
        "print('x\\n', x[:10, :10])\n",
        "print('\\ny\\n', y[:10, :10])"
      ],
      "execution_count": 10,
      "outputs": [
        {
          "output_type": "stream",
          "text": [
            "x\n",
            " [[17 35 45 66 70 47 12 43 22 19]\n",
            " [31 68 15 43 70 35 45 70 43 45]\n",
            " [47 15 69 43 68 12 43 45 43 38]\n",
            " [31 43 70 35 47 43  6 35 52 47]\n",
            " [43 31 45 80 43 35 47 12 43 70]\n",
            " [ 6 24 31 31 52 68 15 43 45 15]\n",
            " [43 41 15 15 45 43 35 45 69 43]\n",
            " [46  5 51 68 15 31 67 40 39 43]]\n",
            "\n",
            "y\n",
            " [[35 45 66 70 47 12 43 22 19 19]\n",
            " [68 15 43 70 35 45 70 43 45 70]\n",
            " [15 69 43 68 12 43 45 43 38 68]\n",
            " [43 70 35 47 43  6 35 52 47 38]\n",
            " [31 45 80 43 35 47 12 43 70 47]\n",
            " [24 31 31 52 68 15 43 45 15 69]\n",
            " [41 15 15 45 43 35 45 69 43 31]\n",
            " [ 5 51 68 15 31 67 40 39 43 81]]\n"
          ],
          "name": "stdout"
        }
      ]
    },
    {
      "cell_type": "markdown",
      "metadata": {
        "id": "1cTTGHqWdz3h",
        "colab_type": "text"
      },
      "source": [
        "If you implemented `get_batches` correctly, the above output should look something like \n",
        "```\n",
        "x\n",
        " [[25  8 60 11 45 27 28 73  1  2]\n",
        " [17  7 20 73 45  8 60 45 73 60]\n",
        " [27 20 80 73  7 28 73 60 73 65]\n",
        " [17 73 45  8 27 73 66  8 46 27]\n",
        " [73 17 60 12 73  8 27 28 73 45]\n",
        " [66 64 17 17 46  7 20 73 60 20]\n",
        " [73 76 20 20 60 73  8 60 80 73]\n",
        " [47 35 43  7 20 17 24 50 37 73]]\n",
        "\n",
        "y\n",
        " [[ 8 60 11 45 27 28 73  1  2  2]\n",
        " [ 7 20 73 45  8 60 45 73 60 45]\n",
        " [20 80 73  7 28 73 60 73 65  7]\n",
        " [73 45  8 27 73 66  8 46 27 65]\n",
        " [17 60 12 73  8 27 28 73 45 27]\n",
        " [64 17 17 46  7 20 73 60 20 80]\n",
        " [76 20 20 60 73  8 60 80 73 17]\n",
        " [35 43  7 20 17 24 50 37 73 36]]\n",
        " ```\n",
        " although the exact numbers may be different. Check to make sure the data is shifted over one step for `y`."
      ]
    },
    {
      "cell_type": "markdown",
      "metadata": {
        "id": "-uVp7DLOdz3i",
        "colab_type": "text"
      },
      "source": [
        "---\n",
        "## Defining the network with PyTorch\n",
        "\n",
        "Below is where you'll define the network.\n",
        "\n",
        "<img src=\"https://github.com/udacity/deep-learning-v2-pytorch/blob/master/recurrent-neural-networks/char-rnn/assets/charRNN.png?raw=1\" width=500px>\n",
        "\n",
        "Next, you'll use PyTorch to define the architecture of the network. We start by defining the layers and operations we want. Then, define a method for the forward pass. You've also been given a method for predicting characters."
      ]
    },
    {
      "cell_type": "markdown",
      "metadata": {
        "id": "wAfe6RBbdz3i",
        "colab_type": "text"
      },
      "source": [
        "### Model Structure\n",
        "\n",
        "In `__init__` the suggested structure is as follows:\n",
        "* Create and store the necessary dictionaries (this has been done for you)\n",
        "* Define an LSTM layer that takes as params: an input size (the number of characters), a hidden layer size `n_hidden`, a number of layers `n_layers`, a dropout probability `drop_prob`, and a batch_first boolean (True, since we are batching)\n",
        "* Define a dropout layer with `drop_prob`\n",
        "* Define a fully-connected layer with params: input size `n_hidden` and output size (the number of characters)\n",
        "* Finally, initialize the weights (again, this has been given)\n",
        "\n",
        "Note that some parameters have been named and given in the `__init__` function, and we use them and store them by doing something like `self.drop_prob = drop_prob`."
      ]
    },
    {
      "cell_type": "markdown",
      "metadata": {
        "id": "Vhaim8judz3j",
        "colab_type": "text"
      },
      "source": [
        "---\n",
        "### LSTM Inputs/Outputs\n",
        "\n",
        "You can create a basic [LSTM layer](https://pytorch.org/docs/stable/nn.html#lstm) as follows\n",
        "\n",
        "```python\n",
        "self.lstm = nn.LSTM(input_size, n_hidden, n_layers, \n",
        "                            dropout=drop_prob, batch_first=True)\n",
        "```\n",
        "\n",
        "where `input_size` is the number of characters this cell expects to see as sequential input, and `n_hidden` is the number of units in the hidden layers in the cell. And we can add dropout by adding a dropout parameter with a specified probability; this will automatically add dropout to the inputs or outputs. Finally, in the `forward` function, we can stack up the LSTM cells into layers using `.view`. With this, you pass in a list of cells and it will send the output of one cell into the next cell.\n",
        "\n",
        "We also need to create an initial hidden state of all zeros. This is done like so\n",
        "\n",
        "```python\n",
        "self.init_hidden()\n",
        "```"
      ]
    },
    {
      "cell_type": "code",
      "metadata": {
        "id": "3d-TSeiDdz3j",
        "colab_type": "code",
        "colab": {
          "base_uri": "https://localhost:8080/",
          "height": 34
        },
        "outputId": "6cd93b0e-5d53-43d4-8538-d0ce45494e9e"
      },
      "source": [
        "# check if GPU is available\n",
        "train_on_gpu = torch.cuda.is_available()\n",
        "if(train_on_gpu):\n",
        "    print('Training on GPU!')\n",
        "else: \n",
        "    print('No GPU available, training on CPU; consider making n_epochs very small.')"
      ],
      "execution_count": 11,
      "outputs": [
        {
          "output_type": "stream",
          "text": [
            "Training on GPU!\n"
          ],
          "name": "stdout"
        }
      ]
    },
    {
      "cell_type": "code",
      "metadata": {
        "id": "dQD_SoYpdz3l",
        "colab_type": "code",
        "colab": {}
      },
      "source": [
        "class CharRNN(nn.Module):\n",
        "    \n",
        "    def __init__(self, tokens, n_hidden=256, n_layers=2,\n",
        "                               drop_prob=0.5, lr=0.001):\n",
        "        super().__init__()\n",
        "        self.drop_prob = drop_prob\n",
        "        self.n_layers = n_layers\n",
        "        self.n_hidden = n_hidden\n",
        "        self.lr = lr\n",
        "        \n",
        "        # creating character dictionaries\n",
        "        self.chars = tokens\n",
        "        self.int2char = dict(enumerate(self.chars))\n",
        "        self.char2int = {ch: ii for ii, ch in self.int2char.items()}\n",
        "        \n",
        "        ## TODO: define the layers of the model\n",
        "        self.lstm = nn.LSTM(len(self.chars),n_hidden,n_layers,dropout=drop_prob,batch_first=True)      \n",
        "        self.dropout = nn.Dropout(drop_prob)\n",
        "        self.fc = nn.Linear(n_hidden,len(self.chars))\n",
        "    def forward(self, x, hidden):\n",
        "        ''' Forward pass through the network. \n",
        "            These inputs are x, and the hidden/cell state `hidden`. '''\n",
        "                \n",
        "        ## TODO: Get the outputs and the new hidden state from the lstm\n",
        "        r_output, hidden = self.lstm(x, hidden)\n",
        "\n",
        "        ## TODO: pass through a dropout layer\n",
        "        out = self.dropout(r_output)\n",
        "        \n",
        "        # Stack up LSTM outputs using view\n",
        "        # you may need to use contiguous to reshape the output\n",
        "        out = out.contiguous().view(-1, self.n_hidden)\n",
        "        \n",
        "        ## TODO: put x through the fully-connected layer\n",
        "        out = self.fc(out)\n",
        "        \n",
        "        # return the final output and the hidden state\n",
        "        return out, hidden\n",
        "    \n",
        "    \n",
        "    def init_hidden(self, batch_size):\n",
        "        ''' Initializes hidden state '''\n",
        "        # Create two new tensors with sizes n_layers x batch_size x n_hidden,\n",
        "        # initialized to zero, for hidden state and cell state of LSTM\n",
        "        weight = next(self.parameters()).data\n",
        "        \n",
        "        if (train_on_gpu):\n",
        "            hidden = (weight.new(self.n_layers, batch_size, self.n_hidden).zero_().cuda(),\n",
        "                  weight.new(self.n_layers, batch_size, self.n_hidden).zero_().cuda())\n",
        "        else:\n",
        "            hidden = (weight.new(self.n_layers, batch_size, self.n_hidden).zero_(),\n",
        "                      weight.new(self.n_layers, batch_size, self.n_hidden).zero_())\n",
        "        \n",
        "        return hidden\n",
        "        "
      ],
      "execution_count": 0,
      "outputs": []
    },
    {
      "cell_type": "markdown",
      "metadata": {
        "id": "rMTYZRVGdz3m",
        "colab_type": "text"
      },
      "source": [
        "## Time to train\n",
        "\n",
        "The train function gives us the ability to set the number of epochs, the learning rate, and other parameters.\n",
        "\n",
        "Below we're using an Adam optimizer and cross entropy loss since we are looking at character class scores as output. We calculate the loss and perform backpropagation, as usual!\n",
        "\n",
        "A couple of details about training: \n",
        ">* Within the batch loop, we detach the hidden state from its history; this time setting it equal to a new *tuple* variable because an LSTM has a hidden state that is a tuple of the hidden and cell states.\n",
        "* We use [`clip_grad_norm_`](https://pytorch.org/docs/stable/_modules/torch/nn/utils/clip_grad.html) to help prevent exploding gradients."
      ]
    },
    {
      "cell_type": "code",
      "metadata": {
        "id": "NaXnccyFdz3n",
        "colab_type": "code",
        "colab": {}
      },
      "source": [
        "def train(net, data, epochs=10, batch_size=10, seq_length=50, lr=0.001, clip=5, val_frac=0.1, print_every=10):\n",
        "    ''' Training a network \n",
        "    \n",
        "        Arguments\n",
        "        ---------\n",
        "        \n",
        "        net: CharRNN network\n",
        "        data: text data to train the network\n",
        "        epochs: Number of epochs to train\n",
        "        batch_size: Number of mini-sequences per mini-batch, aka batch size\n",
        "        seq_length: Number of character steps per mini-batch\n",
        "        lr: learning rate\n",
        "        clip: gradient clipping\n",
        "        val_frac: Fraction of data to hold out for validation\n",
        "        print_every: Number of steps for printing training and validation loss\n",
        "    \n",
        "    '''\n",
        "    net.train()\n",
        "    \n",
        "    opt = torch.optim.Adam(net.parameters(), lr=lr)\n",
        "    criterion = nn.CrossEntropyLoss()\n",
        "    \n",
        "    # create training and validation data\n",
        "    val_idx = int(len(data)*(1-val_frac))\n",
        "    data, val_data = data[:val_idx], data[val_idx:]\n",
        "    \n",
        "    if(train_on_gpu):\n",
        "        net.cuda()\n",
        "    \n",
        "    counter = 0\n",
        "    n_chars = len(net.chars)\n",
        "    for e in range(epochs):\n",
        "        # initialize hidden state\n",
        "        h = net.init_hidden(batch_size)\n",
        "        \n",
        "        for x, y in get_batches(data, batch_size, seq_length):\n",
        "            counter += 1\n",
        "            \n",
        "            # One-hot encode our data and make them Torch tensors\n",
        "            x = one_hot_encode(x, n_chars)\n",
        "            inputs, targets = torch.from_numpy(x), torch.from_numpy(y)\n",
        "            \n",
        "            if(train_on_gpu):\n",
        "                inputs, targets = inputs.cuda(), targets.cuda()\n",
        "\n",
        "            # Creating new variables for the hidden state, otherwise\n",
        "            # we'd backprop through the entire training history\n",
        "            h = tuple([each.data for each in h])\n",
        "\n",
        "            # zero accumulated gradients\n",
        "            net.zero_grad()\n",
        "            \n",
        "            # get the output from the model\n",
        "            output, h = net(inputs, h)\n",
        "            \n",
        "            # calculate the loss and perform backprop\n",
        "            loss = criterion(output, targets.view(batch_size*seq_length).long())\n",
        "            loss.backward()\n",
        "            # `clip_grad_norm` helps prevent the exploding gradient problem in RNNs / LSTMs.\n",
        "            nn.utils.clip_grad_norm_(net.parameters(), clip)\n",
        "            opt.step()\n",
        "            \n",
        "            # loss stats\n",
        "            if counter % print_every == 0:\n",
        "                # Get validation loss\n",
        "                val_h = net.init_hidden(batch_size)\n",
        "                val_losses = []\n",
        "                net.eval()\n",
        "                for x, y in get_batches(val_data, batch_size, seq_length):\n",
        "                    # One-hot encode our data and make them Torch tensors\n",
        "                    x = one_hot_encode(x, n_chars)\n",
        "                    x, y = torch.from_numpy(x), torch.from_numpy(y)\n",
        "                    \n",
        "                    # Creating new variables for the hidden state, otherwise\n",
        "                    # we'd backprop through the entire training history\n",
        "                    val_h = tuple([each.data for each in val_h])\n",
        "                    \n",
        "                    inputs, targets = x, y\n",
        "                    if(train_on_gpu):\n",
        "                        inputs, targets = inputs.cuda(), targets.cuda()\n",
        "\n",
        "                    output, val_h = net(inputs, val_h)\n",
        "                    val_loss = criterion(output, targets.view(batch_size*seq_length).long())\n",
        "                \n",
        "                    val_losses.append(val_loss.item())\n",
        "                \n",
        "                net.train() # reset to train mode after iterationg through validation data\n",
        "                \n",
        "                print(\"Epoch: {}/{}...\".format(e+1, epochs),\n",
        "                      \"Step: {}...\".format(counter),\n",
        "                      \"Loss: {:.4f}...\".format(loss.item()),\n",
        "                      \"Val Loss: {:.4f}\".format(np.mean(val_losses)))"
      ],
      "execution_count": 0,
      "outputs": []
    },
    {
      "cell_type": "markdown",
      "metadata": {
        "id": "lHpmLEQGdz3o",
        "colab_type": "text"
      },
      "source": [
        "## Instantiating the model\n",
        "\n",
        "Now we can actually train the network. First we'll create the network itself, with some given hyperparameters. Then, define the mini-batches sizes, and start training!"
      ]
    },
    {
      "cell_type": "code",
      "metadata": {
        "id": "xLX91eg3dz3o",
        "colab_type": "code",
        "colab": {
          "base_uri": "https://localhost:8080/",
          "height": 102
        },
        "outputId": "1c3331eb-4ba0-4856-eaec-edea2ea931ca"
      },
      "source": [
        "## TODO: set your model hyperparameters\n",
        "# define and print the net\n",
        "n_hidden=52\n",
        "n_layers=2\n",
        "\n",
        "net = CharRNN(chars, n_hidden, n_layers)\n",
        "print(net)"
      ],
      "execution_count": 14,
      "outputs": [
        {
          "output_type": "stream",
          "text": [
            "CharRNN(\n",
            "  (lstm): LSTM(83, 52, num_layers=2, batch_first=True, dropout=0.5)\n",
            "  (dropout): Dropout(p=0.5, inplace=False)\n",
            "  (fc): Linear(in_features=52, out_features=83, bias=True)\n",
            ")\n"
          ],
          "name": "stdout"
        }
      ]
    },
    {
      "cell_type": "markdown",
      "metadata": {
        "id": "wK2QgreRdz3q",
        "colab_type": "text"
      },
      "source": [
        "### Set your training hyperparameters!"
      ]
    },
    {
      "cell_type": "code",
      "metadata": {
        "scrolled": true,
        "id": "VZLT9p5fdz3q",
        "colab_type": "code",
        "colab": {
          "base_uri": "https://localhost:8080/",
          "height": 1000
        },
        "outputId": "560753dd-7cdb-4fd7-f20b-eff791187848"
      },
      "source": [
        "batch_size = 128\n",
        "seq_length = 100\n",
        "n_epochs = 20 # start small if you are just testing initial behavior\n",
        "\n",
        "# train the model\n",
        "train(net, encoded, epochs=n_epochs, batch_size=batch_size, seq_length=seq_length, lr=0.001, print_every=10)"
      ],
      "execution_count": 15,
      "outputs": [
        {
          "output_type": "stream",
          "text": [
            "Epoch: 1/20... Step: 10... Loss: 4.3542... Val Loss: 4.3425\n",
            "Epoch: 1/20... Step: 20... Loss: 4.0667... Val Loss: 3.9868\n",
            "Epoch: 1/20... Step: 30... Loss: 3.4556... Val Loss: 3.3278\n",
            "Epoch: 1/20... Step: 40... Loss: 3.2776... Val Loss: 3.1669\n",
            "Epoch: 1/20... Step: 50... Loss: 3.2647... Val Loss: 3.1410\n",
            "Epoch: 1/20... Step: 60... Loss: 3.2122... Val Loss: 3.1313\n",
            "Epoch: 1/20... Step: 70... Loss: 3.1962... Val Loss: 3.1280\n",
            "Epoch: 1/20... Step: 80... Loss: 3.2064... Val Loss: 3.1259\n",
            "Epoch: 1/20... Step: 90... Loss: 3.2012... Val Loss: 3.1246\n",
            "Epoch: 1/20... Step: 100... Loss: 3.1846... Val Loss: 3.1231\n",
            "Epoch: 1/20... Step: 110... Loss: 3.1839... Val Loss: 3.1219\n",
            "Epoch: 1/20... Step: 120... Loss: 3.1594... Val Loss: 3.1211\n",
            "Epoch: 1/20... Step: 130... Loss: 3.1720... Val Loss: 3.1201\n",
            "Epoch: 2/20... Step: 140... Loss: 3.1719... Val Loss: 3.1197\n",
            "Epoch: 2/20... Step: 150... Loss: 3.1601... Val Loss: 3.1190\n",
            "Epoch: 2/20... Step: 160... Loss: 3.1540... Val Loss: 3.1187\n",
            "Epoch: 2/20... Step: 170... Loss: 3.1304... Val Loss: 3.1179\n",
            "Epoch: 2/20... Step: 180... Loss: 3.1288... Val Loss: 3.1176\n",
            "Epoch: 2/20... Step: 190... Loss: 3.1368... Val Loss: 3.1171\n",
            "Epoch: 2/20... Step: 200... Loss: 3.1329... Val Loss: 3.1163\n",
            "Epoch: 2/20... Step: 210... Loss: 3.1366... Val Loss: 3.1158\n",
            "Epoch: 2/20... Step: 220... Loss: 3.1381... Val Loss: 3.1150\n",
            "Epoch: 2/20... Step: 230... Loss: 3.1266... Val Loss: 3.1136\n",
            "Epoch: 2/20... Step: 240... Loss: 3.1234... Val Loss: 3.1120\n",
            "Epoch: 2/20... Step: 250... Loss: 3.1195... Val Loss: 3.1102\n",
            "Epoch: 2/20... Step: 260... Loss: 3.1109... Val Loss: 3.1071\n",
            "Epoch: 2/20... Step: 270... Loss: 3.1071... Val Loss: 3.1031\n",
            "Epoch: 3/20... Step: 280... Loss: 3.1210... Val Loss: 3.0977\n",
            "Epoch: 3/20... Step: 290... Loss: 3.0960... Val Loss: 3.0906\n",
            "Epoch: 3/20... Step: 300... Loss: 3.1068... Val Loss: 3.0787\n",
            "Epoch: 3/20... Step: 310... Loss: 3.0865... Val Loss: 3.0633\n",
            "Epoch: 3/20... Step: 320... Loss: 3.0699... Val Loss: 3.0448\n",
            "Epoch: 3/20... Step: 330... Loss: 3.0399... Val Loss: 3.0222\n",
            "Epoch: 3/20... Step: 340... Loss: 3.0249... Val Loss: 2.9992\n",
            "Epoch: 3/20... Step: 350... Loss: 3.0185... Val Loss: 2.9747\n",
            "Epoch: 3/20... Step: 360... Loss: 2.9892... Val Loss: 2.9532\n",
            "Epoch: 3/20... Step: 370... Loss: 2.9918... Val Loss: 2.9315\n",
            "Epoch: 3/20... Step: 380... Loss: 2.9638... Val Loss: 2.9106\n",
            "Epoch: 3/20... Step: 390... Loss: 2.9429... Val Loss: 2.8946\n",
            "Epoch: 3/20... Step: 400... Loss: 2.9263... Val Loss: 2.8732\n",
            "Epoch: 3/20... Step: 410... Loss: 2.9132... Val Loss: 2.8548\n",
            "Epoch: 4/20... Step: 420... Loss: 2.8900... Val Loss: 2.8368\n",
            "Epoch: 4/20... Step: 430... Loss: 2.8654... Val Loss: 2.8196\n",
            "Epoch: 4/20... Step: 440... Loss: 2.8624... Val Loss: 2.8009\n",
            "Epoch: 4/20... Step: 450... Loss: 2.8144... Val Loss: 2.7814\n",
            "Epoch: 4/20... Step: 460... Loss: 2.8273... Val Loss: 2.7607\n",
            "Epoch: 4/20... Step: 470... Loss: 2.8151... Val Loss: 2.7416\n",
            "Epoch: 4/20... Step: 480... Loss: 2.7883... Val Loss: 2.7230\n",
            "Epoch: 4/20... Step: 490... Loss: 2.7837... Val Loss: 2.7064\n",
            "Epoch: 4/20... Step: 500... Loss: 2.7745... Val Loss: 2.6913\n",
            "Epoch: 4/20... Step: 510... Loss: 2.7818... Val Loss: 2.6777\n",
            "Epoch: 4/20... Step: 520... Loss: 2.7662... Val Loss: 2.6647\n",
            "Epoch: 4/20... Step: 530... Loss: 2.7267... Val Loss: 2.6556\n",
            "Epoch: 4/20... Step: 540... Loss: 2.7206... Val Loss: 2.6443\n",
            "Epoch: 4/20... Step: 550... Loss: 2.7274... Val Loss: 2.6363\n",
            "Epoch: 5/20... Step: 560... Loss: 2.6940... Val Loss: 2.6263\n",
            "Epoch: 5/20... Step: 570... Loss: 2.6994... Val Loss: 2.6177\n",
            "Epoch: 5/20... Step: 580... Loss: 2.6875... Val Loss: 2.6099\n",
            "Epoch: 5/20... Step: 590... Loss: 2.7026... Val Loss: 2.6027\n",
            "Epoch: 5/20... Step: 600... Loss: 2.6553... Val Loss: 2.5966\n",
            "Epoch: 5/20... Step: 610... Loss: 2.6842... Val Loss: 2.5880\n",
            "Epoch: 5/20... Step: 620... Loss: 2.6528... Val Loss: 2.5815\n",
            "Epoch: 5/20... Step: 630... Loss: 2.6845... Val Loss: 2.5737\n",
            "Epoch: 5/20... Step: 640... Loss: 2.6671... Val Loss: 2.5668\n",
            "Epoch: 5/20... Step: 650... Loss: 2.6633... Val Loss: 2.5594\n",
            "Epoch: 5/20... Step: 660... Loss: 2.6411... Val Loss: 2.5524\n",
            "Epoch: 5/20... Step: 670... Loss: 2.6624... Val Loss: 2.5460\n",
            "Epoch: 5/20... Step: 680... Loss: 2.6442... Val Loss: 2.5383\n",
            "Epoch: 5/20... Step: 690... Loss: 2.6151... Val Loss: 2.5330\n",
            "Epoch: 6/20... Step: 700... Loss: 2.6087... Val Loss: 2.5255\n",
            "Epoch: 6/20... Step: 710... Loss: 2.6226... Val Loss: 2.5202\n",
            "Epoch: 6/20... Step: 720... Loss: 2.5930... Val Loss: 2.5137\n",
            "Epoch: 6/20... Step: 730... Loss: 2.6018... Val Loss: 2.5076\n",
            "Epoch: 6/20... Step: 740... Loss: 2.6034... Val Loss: 2.5033\n",
            "Epoch: 6/20... Step: 750... Loss: 2.5701... Val Loss: 2.4970\n",
            "Epoch: 6/20... Step: 760... Loss: 2.5974... Val Loss: 2.4927\n",
            "Epoch: 6/20... Step: 770... Loss: 2.5953... Val Loss: 2.4883\n",
            "Epoch: 6/20... Step: 780... Loss: 2.5759... Val Loss: 2.4838\n",
            "Epoch: 6/20... Step: 790... Loss: 2.5775... Val Loss: 2.4779\n",
            "Epoch: 6/20... Step: 800... Loss: 2.5710... Val Loss: 2.4730\n",
            "Epoch: 6/20... Step: 810... Loss: 2.5730... Val Loss: 2.4692\n",
            "Epoch: 6/20... Step: 820... Loss: 2.5679... Val Loss: 2.4652\n",
            "Epoch: 6/20... Step: 830... Loss: 2.5724... Val Loss: 2.4639\n",
            "Epoch: 7/20... Step: 840... Loss: 2.5418... Val Loss: 2.4572\n",
            "Epoch: 7/20... Step: 850... Loss: 2.5604... Val Loss: 2.4550\n",
            "Epoch: 7/20... Step: 860... Loss: 2.5475... Val Loss: 2.4529\n",
            "Epoch: 7/20... Step: 870... Loss: 2.5373... Val Loss: 2.4473\n",
            "Epoch: 7/20... Step: 880... Loss: 2.5430... Val Loss: 2.4440\n",
            "Epoch: 7/20... Step: 890... Loss: 2.5378... Val Loss: 2.4398\n",
            "Epoch: 7/20... Step: 900... Loss: 2.5185... Val Loss: 2.4373\n",
            "Epoch: 7/20... Step: 910... Loss: 2.5295... Val Loss: 2.4341\n",
            "Epoch: 7/20... Step: 920... Loss: 2.5296... Val Loss: 2.4311\n",
            "Epoch: 7/20... Step: 930... Loss: 2.5225... Val Loss: 2.4286\n",
            "Epoch: 7/20... Step: 940... Loss: 2.5213... Val Loss: 2.4255\n",
            "Epoch: 7/20... Step: 950... Loss: 2.5422... Val Loss: 2.4243\n",
            "Epoch: 7/20... Step: 960... Loss: 2.5322... Val Loss: 2.4205\n",
            "Epoch: 7/20... Step: 970... Loss: 2.5257... Val Loss: 2.4183\n",
            "Epoch: 8/20... Step: 980... Loss: 2.5065... Val Loss: 2.4158\n",
            "Epoch: 8/20... Step: 990... Loss: 2.5131... Val Loss: 2.4138\n",
            "Epoch: 8/20... Step: 1000... Loss: 2.5061... Val Loss: 2.4118\n",
            "Epoch: 8/20... Step: 1010... Loss: 2.5291... Val Loss: 2.4086\n",
            "Epoch: 8/20... Step: 1020... Loss: 2.5240... Val Loss: 2.4071\n",
            "Epoch: 8/20... Step: 1030... Loss: 2.4887... Val Loss: 2.4044\n",
            "Epoch: 8/20... Step: 1040... Loss: 2.4909... Val Loss: 2.4020\n",
            "Epoch: 8/20... Step: 1050... Loss: 2.5238... Val Loss: 2.4000\n",
            "Epoch: 8/20... Step: 1060... Loss: 2.5098... Val Loss: 2.3980\n",
            "Epoch: 8/20... Step: 1070... Loss: 2.5094... Val Loss: 2.3969\n",
            "Epoch: 8/20... Step: 1080... Loss: 2.5044... Val Loss: 2.3939\n",
            "Epoch: 8/20... Step: 1090... Loss: 2.4900... Val Loss: 2.3909\n",
            "Epoch: 8/20... Step: 1100... Loss: 2.4898... Val Loss: 2.3888\n",
            "Epoch: 8/20... Step: 1110... Loss: 2.4797... Val Loss: 2.3873\n",
            "Epoch: 9/20... Step: 1120... Loss: 2.4967... Val Loss: 2.3854\n",
            "Epoch: 9/20... Step: 1130... Loss: 2.4736... Val Loss: 2.3819\n",
            "Epoch: 9/20... Step: 1140... Loss: 2.4916... Val Loss: 2.3797\n",
            "Epoch: 9/20... Step: 1150... Loss: 2.4854... Val Loss: 2.3777\n",
            "Epoch: 9/20... Step: 1160... Loss: 2.4596... Val Loss: 2.3768\n",
            "Epoch: 9/20... Step: 1170... Loss: 2.4620... Val Loss: 2.3750\n",
            "Epoch: 9/20... Step: 1180... Loss: 2.4835... Val Loss: 2.3722\n",
            "Epoch: 9/20... Step: 1190... Loss: 2.4875... Val Loss: 2.3702\n",
            "Epoch: 9/20... Step: 1200... Loss: 2.4606... Val Loss: 2.3672\n",
            "Epoch: 9/20... Step: 1210... Loss: 2.4531... Val Loss: 2.3650\n",
            "Epoch: 9/20... Step: 1220... Loss: 2.4625... Val Loss: 2.3650\n",
            "Epoch: 9/20... Step: 1230... Loss: 2.4457... Val Loss: 2.3614\n",
            "Epoch: 9/20... Step: 1240... Loss: 2.4406... Val Loss: 2.3599\n",
            "Epoch: 9/20... Step: 1250... Loss: 2.4609... Val Loss: 2.3571\n",
            "Epoch: 10/20... Step: 1260... Loss: 2.4595... Val Loss: 2.3550\n",
            "Epoch: 10/20... Step: 1270... Loss: 2.4258... Val Loss: 2.3541\n",
            "Epoch: 10/20... Step: 1280... Loss: 2.4754... Val Loss: 2.3506\n",
            "Epoch: 10/20... Step: 1290... Loss: 2.4510... Val Loss: 2.3486\n",
            "Epoch: 10/20... Step: 1300... Loss: 2.4460... Val Loss: 2.3475\n",
            "Epoch: 10/20... Step: 1310... Loss: 2.4478... Val Loss: 2.3444\n",
            "Epoch: 10/20... Step: 1320... Loss: 2.4479... Val Loss: 2.3424\n",
            "Epoch: 10/20... Step: 1330... Loss: 2.4654... Val Loss: 2.3404\n",
            "Epoch: 10/20... Step: 1340... Loss: 2.4568... Val Loss: 2.3378\n",
            "Epoch: 10/20... Step: 1350... Loss: 2.4401... Val Loss: 2.3355\n",
            "Epoch: 10/20... Step: 1360... Loss: 2.4307... Val Loss: 2.3356\n",
            "Epoch: 10/20... Step: 1370... Loss: 2.4254... Val Loss: 2.3335\n",
            "Epoch: 10/20... Step: 1380... Loss: 2.4442... Val Loss: 2.3297\n",
            "Epoch: 10/20... Step: 1390... Loss: 2.4298... Val Loss: 2.3278\n",
            "Epoch: 11/20... Step: 1400... Loss: 2.4239... Val Loss: 2.3255\n",
            "Epoch: 11/20... Step: 1410... Loss: 2.4204... Val Loss: 2.3239\n",
            "Epoch: 11/20... Step: 1420... Loss: 2.4473... Val Loss: 2.3217\n",
            "Epoch: 11/20... Step: 1430... Loss: 2.4100... Val Loss: 2.3205\n",
            "Epoch: 11/20... Step: 1440... Loss: 2.4574... Val Loss: 2.3183\n",
            "Epoch: 11/20... Step: 1450... Loss: 2.4140... Val Loss: 2.3156\n",
            "Epoch: 11/20... Step: 1460... Loss: 2.4146... Val Loss: 2.3133\n",
            "Epoch: 11/20... Step: 1470... Loss: 2.4061... Val Loss: 2.3112\n",
            "Epoch: 11/20... Step: 1480... Loss: 2.4327... Val Loss: 2.3099\n",
            "Epoch: 11/20... Step: 1490... Loss: 2.4211... Val Loss: 2.3065\n",
            "Epoch: 11/20... Step: 1500... Loss: 2.4059... Val Loss: 2.3059\n",
            "Epoch: 11/20... Step: 1510... Loss: 2.3869... Val Loss: 2.3036\n",
            "Epoch: 11/20... Step: 1520... Loss: 2.4243... Val Loss: 2.3005\n",
            "Epoch: 12/20... Step: 1530... Loss: 2.4283... Val Loss: 2.2987\n",
            "Epoch: 12/20... Step: 1540... Loss: 2.4276... Val Loss: 2.2970\n",
            "Epoch: 12/20... Step: 1550... Loss: 2.4177... Val Loss: 2.2957\n",
            "Epoch: 12/20... Step: 1560... Loss: 2.3935... Val Loss: 2.2925\n",
            "Epoch: 12/20... Step: 1570... Loss: 2.3875... Val Loss: 2.2924\n",
            "Epoch: 12/20... Step: 1580... Loss: 2.3788... Val Loss: 2.2894\n",
            "Epoch: 12/20... Step: 1590... Loss: 2.4016... Val Loss: 2.2874\n",
            "Epoch: 12/20... Step: 1600... Loss: 2.4004... Val Loss: 2.2845\n",
            "Epoch: 12/20... Step: 1610... Loss: 2.3801... Val Loss: 2.2837\n",
            "Epoch: 12/20... Step: 1620... Loss: 2.3966... Val Loss: 2.2808\n",
            "Epoch: 12/20... Step: 1630... Loss: 2.3909... Val Loss: 2.2792\n",
            "Epoch: 12/20... Step: 1640... Loss: 2.3684... Val Loss: 2.2787\n",
            "Epoch: 12/20... Step: 1650... Loss: 2.3704... Val Loss: 2.2759\n",
            "Epoch: 12/20... Step: 1660... Loss: 2.3826... Val Loss: 2.2753\n",
            "Epoch: 13/20... Step: 1670... Loss: 2.3951... Val Loss: 2.2719\n",
            "Epoch: 13/20... Step: 1680... Loss: 2.3790... Val Loss: 2.2692\n",
            "Epoch: 13/20... Step: 1690... Loss: 2.3873... Val Loss: 2.2680\n",
            "Epoch: 13/20... Step: 1700... Loss: 2.3881... Val Loss: 2.2653\n",
            "Epoch: 13/20... Step: 1710... Loss: 2.3827... Val Loss: 2.2665\n",
            "Epoch: 13/20... Step: 1720... Loss: 2.3549... Val Loss: 2.2625\n",
            "Epoch: 13/20... Step: 1730... Loss: 2.3818... Val Loss: 2.2611\n",
            "Epoch: 13/20... Step: 1740... Loss: 2.3764... Val Loss: 2.2588\n",
            "Epoch: 13/20... Step: 1750... Loss: 2.3372... Val Loss: 2.2561\n",
            "Epoch: 13/20... Step: 1760... Loss: 2.3751... Val Loss: 2.2551\n",
            "Epoch: 13/20... Step: 1770... Loss: 2.3549... Val Loss: 2.2522\n",
            "Epoch: 13/20... Step: 1780... Loss: 2.3638... Val Loss: 2.2513\n",
            "Epoch: 13/20... Step: 1790... Loss: 2.3450... Val Loss: 2.2487\n",
            "Epoch: 13/20... Step: 1800... Loss: 2.3712... Val Loss: 2.2464\n",
            "Epoch: 14/20... Step: 1810... Loss: 2.3490... Val Loss: 2.2458\n",
            "Epoch: 14/20... Step: 1820... Loss: 2.3574... Val Loss: 2.2433\n",
            "Epoch: 14/20... Step: 1830... Loss: 2.3591... Val Loss: 2.2429\n",
            "Epoch: 14/20... Step: 1840... Loss: 2.3174... Val Loss: 2.2412\n",
            "Epoch: 14/20... Step: 1850... Loss: 2.3343... Val Loss: 2.2391\n",
            "Epoch: 14/20... Step: 1860... Loss: 2.3532... Val Loss: 2.2364\n",
            "Epoch: 14/20... Step: 1870... Loss: 2.3325... Val Loss: 2.2350\n",
            "Epoch: 14/20... Step: 1880... Loss: 2.3490... Val Loss: 2.2327\n",
            "Epoch: 14/20... Step: 1890... Loss: 2.3616... Val Loss: 2.2305\n",
            "Epoch: 14/20... Step: 1900... Loss: 2.3571... Val Loss: 2.2297\n",
            "Epoch: 14/20... Step: 1910... Loss: 2.3697... Val Loss: 2.2267\n",
            "Epoch: 14/20... Step: 1920... Loss: 2.3351... Val Loss: 2.2242\n",
            "Epoch: 14/20... Step: 1930... Loss: 2.3214... Val Loss: 2.2232\n",
            "Epoch: 14/20... Step: 1940... Loss: 2.3416... Val Loss: 2.2207\n",
            "Epoch: 15/20... Step: 1950... Loss: 2.3220... Val Loss: 2.2197\n",
            "Epoch: 15/20... Step: 1960... Loss: 2.3303... Val Loss: 2.2187\n",
            "Epoch: 15/20... Step: 1970... Loss: 2.3096... Val Loss: 2.2175\n",
            "Epoch: 15/20... Step: 1980... Loss: 2.3324... Val Loss: 2.2150\n",
            "Epoch: 15/20... Step: 1990... Loss: 2.2897... Val Loss: 2.2148\n",
            "Epoch: 15/20... Step: 2000... Loss: 2.3236... Val Loss: 2.2114\n",
            "Epoch: 15/20... Step: 2010... Loss: 2.2999... Val Loss: 2.2094\n",
            "Epoch: 15/20... Step: 2020... Loss: 2.3443... Val Loss: 2.2075\n",
            "Epoch: 15/20... Step: 2030... Loss: 2.3253... Val Loss: 2.2053\n",
            "Epoch: 15/20... Step: 2040... Loss: 2.3115... Val Loss: 2.2039\n",
            "Epoch: 15/20... Step: 2050... Loss: 2.3032... Val Loss: 2.2017\n",
            "Epoch: 15/20... Step: 2060... Loss: 2.3330... Val Loss: 2.1997\n",
            "Epoch: 15/20... Step: 2070... Loss: 2.3286... Val Loss: 2.1989\n",
            "Epoch: 15/20... Step: 2080... Loss: 2.2952... Val Loss: 2.1968\n",
            "Epoch: 16/20... Step: 2090... Loss: 2.2842... Val Loss: 2.1954\n",
            "Epoch: 16/20... Step: 2100... Loss: 2.3131... Val Loss: 2.1946\n",
            "Epoch: 16/20... Step: 2110... Loss: 2.2817... Val Loss: 2.1952\n",
            "Epoch: 16/20... Step: 2120... Loss: 2.3062... Val Loss: 2.1907\n",
            "Epoch: 16/20... Step: 2130... Loss: 2.3021... Val Loss: 2.1893\n",
            "Epoch: 16/20... Step: 2140... Loss: 2.2683... Val Loss: 2.1862\n",
            "Epoch: 16/20... Step: 2150... Loss: 2.3104... Val Loss: 2.1847\n",
            "Epoch: 16/20... Step: 2160... Loss: 2.3045... Val Loss: 2.1840\n",
            "Epoch: 16/20... Step: 2170... Loss: 2.2758... Val Loss: 2.1814\n",
            "Epoch: 16/20... Step: 2180... Loss: 2.2960... Val Loss: 2.1792\n",
            "Epoch: 16/20... Step: 2190... Loss: 2.2886... Val Loss: 2.1783\n",
            "Epoch: 16/20... Step: 2200... Loss: 2.3026... Val Loss: 2.1761\n",
            "Epoch: 16/20... Step: 2210... Loss: 2.2984... Val Loss: 2.1758\n",
            "Epoch: 16/20... Step: 2220... Loss: 2.3075... Val Loss: 2.1738\n",
            "Epoch: 17/20... Step: 2230... Loss: 2.2731... Val Loss: 2.1717\n",
            "Epoch: 17/20... Step: 2240... Loss: 2.2847... Val Loss: 2.1708\n",
            "Epoch: 17/20... Step: 2250... Loss: 2.2893... Val Loss: 2.1713\n",
            "Epoch: 17/20... Step: 2260... Loss: 2.2771... Val Loss: 2.1686\n",
            "Epoch: 17/20... Step: 2270... Loss: 2.2914... Val Loss: 2.1654\n",
            "Epoch: 17/20... Step: 2280... Loss: 2.2836... Val Loss: 2.1645\n",
            "Epoch: 17/20... Step: 2290... Loss: 2.2669... Val Loss: 2.1627\n",
            "Epoch: 17/20... Step: 2300... Loss: 2.2599... Val Loss: 2.1625\n",
            "Epoch: 17/20... Step: 2310... Loss: 2.2755... Val Loss: 2.1585\n",
            "Epoch: 17/20... Step: 2320... Loss: 2.2695... Val Loss: 2.1584\n",
            "Epoch: 17/20... Step: 2330... Loss: 2.2717... Val Loss: 2.1563\n",
            "Epoch: 17/20... Step: 2340... Loss: 2.2817... Val Loss: 2.1549\n",
            "Epoch: 17/20... Step: 2350... Loss: 2.2714... Val Loss: 2.1538\n",
            "Epoch: 17/20... Step: 2360... Loss: 2.2941... Val Loss: 2.1522\n",
            "Epoch: 18/20... Step: 2370... Loss: 2.2628... Val Loss: 2.1512\n",
            "Epoch: 18/20... Step: 2380... Loss: 2.2733... Val Loss: 2.1505\n",
            "Epoch: 18/20... Step: 2390... Loss: 2.2704... Val Loss: 2.1481\n",
            "Epoch: 18/20... Step: 2400... Loss: 2.2826... Val Loss: 2.1482\n",
            "Epoch: 18/20... Step: 2410... Loss: 2.2739... Val Loss: 2.1452\n",
            "Epoch: 18/20... Step: 2420... Loss: 2.2498... Val Loss: 2.1439\n",
            "Epoch: 18/20... Step: 2430... Loss: 2.2566... Val Loss: 2.1424\n",
            "Epoch: 18/20... Step: 2440... Loss: 2.2783... Val Loss: 2.1411\n",
            "Epoch: 18/20... Step: 2450... Loss: 2.2723... Val Loss: 2.1388\n",
            "Epoch: 18/20... Step: 2460... Loss: 2.2726... Val Loss: 2.1380\n",
            "Epoch: 18/20... Step: 2470... Loss: 2.2516... Val Loss: 2.1367\n",
            "Epoch: 18/20... Step: 2480... Loss: 2.2396... Val Loss: 2.1344\n",
            "Epoch: 18/20... Step: 2490... Loss: 2.2441... Val Loss: 2.1343\n",
            "Epoch: 18/20... Step: 2500... Loss: 2.2578... Val Loss: 2.1320\n",
            "Epoch: 19/20... Step: 2510... Loss: 2.2619... Val Loss: 2.1315\n",
            "Epoch: 19/20... Step: 2520... Loss: 2.2443... Val Loss: 2.1295\n",
            "Epoch: 19/20... Step: 2530... Loss: 2.2575... Val Loss: 2.1278\n",
            "Epoch: 19/20... Step: 2540... Loss: 2.2685... Val Loss: 2.1301\n",
            "Epoch: 19/20... Step: 2550... Loss: 2.2288... Val Loss: 2.1252\n",
            "Epoch: 19/20... Step: 2560... Loss: 2.2314... Val Loss: 2.1252\n",
            "Epoch: 19/20... Step: 2570... Loss: 2.2517... Val Loss: 2.1224\n",
            "Epoch: 19/20... Step: 2580... Loss: 2.2650... Val Loss: 2.1210\n",
            "Epoch: 19/20... Step: 2590... Loss: 2.2277... Val Loss: 2.1191\n",
            "Epoch: 19/20... Step: 2600... Loss: 2.2298... Val Loss: 2.1177\n",
            "Epoch: 19/20... Step: 2610... Loss: 2.2455... Val Loss: 2.1181\n",
            "Epoch: 19/20... Step: 2620... Loss: 2.2308... Val Loss: 2.1156\n",
            "Epoch: 19/20... Step: 2630... Loss: 2.2283... Val Loss: 2.1160\n",
            "Epoch: 19/20... Step: 2640... Loss: 2.2280... Val Loss: 2.1140\n",
            "Epoch: 20/20... Step: 2650... Loss: 2.2380... Val Loss: 2.1123\n",
            "Epoch: 20/20... Step: 2660... Loss: 2.2180... Val Loss: 2.1130\n",
            "Epoch: 20/20... Step: 2670... Loss: 2.2526... Val Loss: 2.1097\n",
            "Epoch: 20/20... Step: 2680... Loss: 2.2321... Val Loss: 2.1106\n",
            "Epoch: 20/20... Step: 2690... Loss: 2.2300... Val Loss: 2.1058\n",
            "Epoch: 20/20... Step: 2700... Loss: 2.2424... Val Loss: 2.1057\n",
            "Epoch: 20/20... Step: 2710... Loss: 2.2258... Val Loss: 2.1031\n",
            "Epoch: 20/20... Step: 2720... Loss: 2.2298... Val Loss: 2.1031\n",
            "Epoch: 20/20... Step: 2730... Loss: 2.2349... Val Loss: 2.1011\n",
            "Epoch: 20/20... Step: 2740... Loss: 2.2160... Val Loss: 2.1007\n",
            "Epoch: 20/20... Step: 2750... Loss: 2.2207... Val Loss: 2.1007\n",
            "Epoch: 20/20... Step: 2760... Loss: 2.2141... Val Loss: 2.0973\n",
            "Epoch: 20/20... Step: 2770... Loss: 2.2253... Val Loss: 2.0975\n",
            "Epoch: 20/20... Step: 2780... Loss: 2.2399... Val Loss: 2.0962\n"
          ],
          "name": "stdout"
        }
      ]
    },
    {
      "cell_type": "markdown",
      "metadata": {
        "id": "pJmVTYYndz3r",
        "colab_type": "text"
      },
      "source": [
        "## Getting the best model\n",
        "\n",
        "To set your hyperparameters to get the best performance, you'll want to watch the training and validation losses. If your training loss is much lower than the validation loss, you're overfitting. Increase regularization (more dropout) or use a smaller network. If the training and validation losses are close, you're underfitting so you can increase the size of the network."
      ]
    },
    {
      "cell_type": "markdown",
      "metadata": {
        "id": "0170q6dmdz3s",
        "colab_type": "text"
      },
      "source": [
        "## Hyperparameters\n",
        "\n",
        "Here are the hyperparameters for the network.\n",
        "\n",
        "In defining the model:\n",
        "* `n_hidden` - The number of units in the hidden layers.\n",
        "* `n_layers` - Number of hidden LSTM layers to use.\n",
        "\n",
        "We assume that dropout probability and learning rate will be kept at the default, in this example.\n",
        "\n",
        "And in training:\n",
        "* `batch_size` - Number of sequences running through the network in one pass.\n",
        "* `seq_length` - Number of characters in the sequence the network is trained on. Larger is better typically, the network will learn more long range dependencies. But it takes longer to train. 100 is typically a good number here.\n",
        "* `lr` - Learning rate for training\n",
        "\n",
        "Here's some good advice from Andrej Karpathy on training the network. I'm going to copy it in here for your benefit, but also link to [where it originally came from](https://github.com/karpathy/char-rnn#tips-and-tricks).\n",
        "\n",
        "> ## Tips and Tricks\n",
        "\n",
        ">### Monitoring Validation Loss vs. Training Loss\n",
        ">If you're somewhat new to Machine Learning or Neural Networks it can take a bit of expertise to get good models. The most important quantity to keep track of is the difference between your training loss (printed during training) and the validation loss (printed once in a while when the RNN is run on the validation data (by default every 1000 iterations)). In particular:\n",
        "\n",
        "> - If your training loss is much lower than validation loss then this means the network might be **overfitting**. Solutions to this are to decrease your network size, or to increase dropout. For example you could try dropout of 0.5 and so on.\n",
        "> - If your training/validation loss are about equal then your model is **underfitting**. Increase the size of your model (either number of layers or the raw number of neurons per layer)\n",
        "\n",
        "> ### Approximate number of parameters\n",
        "\n",
        "> The two most important parameters that control the model are `n_hidden` and `n_layers`. I would advise that you always use `n_layers` of either 2/3. The `n_hidden` can be adjusted based on how much data you have. The two important quantities to keep track of here are:\n",
        "\n",
        "> - The number of parameters in your model. This is printed when you start training.\n",
        "> - The size of your dataset. 1MB file is approximately 1 million characters.\n",
        "\n",
        ">These two should be about the same order of magnitude. It's a little tricky to tell. Here are some examples:\n",
        "\n",
        "> - I have a 100MB dataset and I'm using the default parameter settings (which currently print 150K parameters). My data size is significantly larger (100 mil >> 0.15 mil), so I expect to heavily underfit. I am thinking I can comfortably afford to make `n_hidden` larger.\n",
        "> - I have a 10MB dataset and running a 10 million parameter model. I'm slightly nervous and I'm carefully monitoring my validation loss. If it's larger than my training loss then I may want to try to increase dropout a bit and see if that helps the validation loss.\n",
        "\n",
        "> ### Best models strategy\n",
        "\n",
        ">The winning strategy to obtaining very good models (if you have the compute time) is to always err on making the network larger (as large as you're willing to wait for it to compute) and then try different dropout values (between 0,1). Whatever model has the best validation performance (the loss, written in the checkpoint filename, low is good) is the one you should use in the end.\n",
        "\n",
        ">It is very common in deep learning to run many different models with many different hyperparameter settings, and in the end take whatever checkpoint gave the best validation performance.\n",
        "\n",
        ">By the way, the size of your training and validation splits are also parameters. Make sure you have a decent amount of data in your validation set or otherwise the validation performance will be noisy and not very informative."
      ]
    },
    {
      "cell_type": "markdown",
      "metadata": {
        "id": "4JxwJLYzdz3s",
        "colab_type": "text"
      },
      "source": [
        "## Checkpoint\n",
        "\n",
        "After training, we'll save the model so we can load it again later if we need too. Here I'm saving the parameters needed to create the same architecture, the hidden layer hyperparameters and the text characters."
      ]
    },
    {
      "cell_type": "code",
      "metadata": {
        "id": "u3lukhJHdz3t",
        "colab_type": "code",
        "colab": {}
      },
      "source": [
        "# change the name, for saving multiple files\n",
        "model_name = 'rnn_x_epoch.net'\n",
        "\n",
        "checkpoint = {'n_hidden': net.n_hidden,\n",
        "              'n_layers': net.n_layers,\n",
        "              'state_dict': net.state_dict(),\n",
        "              'tokens': net.chars}\n",
        "\n",
        "with open(model_name, 'wb') as f:\n",
        "    torch.save(checkpoint, f)"
      ],
      "execution_count": 0,
      "outputs": []
    },
    {
      "cell_type": "markdown",
      "metadata": {
        "id": "uOJ4Ljkwdz3v",
        "colab_type": "text"
      },
      "source": [
        "---\n",
        "## Making Predictions\n",
        "\n",
        "Now that the model is trained, we'll want to sample from it and make predictions about next characters! To sample, we pass in a character and have the network predict the next character. Then we take that character, pass it back in, and get another predicted character. Just keep doing this and you'll generate a bunch of text!\n",
        "\n",
        "### A note on the `predict`  function\n",
        "\n",
        "The output of our RNN is from a fully-connected layer and it outputs a **distribution of next-character scores**.\n",
        "\n",
        "> To actually get the next character, we apply a softmax function, which gives us a *probability* distribution that we can then sample to predict the next character.\n",
        "\n",
        "### Top K sampling\n",
        "\n",
        "Our predictions come from a categorical probability distribution over all the possible characters. We can make the sample text and make it more reasonable to handle (with less variables) by only considering some $K$ most probable characters. This will prevent the network from giving us completely absurd characters while allowing it to introduce some noise and randomness into the sampled text. Read more about [topk, here](https://pytorch.org/docs/stable/torch.html#torch.topk).\n"
      ]
    },
    {
      "cell_type": "code",
      "metadata": {
        "id": "tfDF8ZnOdz3w",
        "colab_type": "code",
        "colab": {}
      },
      "source": [
        "def predict(net, char, h=None, top_k=None):\n",
        "        ''' Given a character, predict the next character.\n",
        "            Returns the predicted character and the hidden state.\n",
        "        '''\n",
        "        \n",
        "        # tensor inputs\n",
        "        x = np.array([[net.char2int[char]]])\n",
        "        x = one_hot_encode(x, len(net.chars))\n",
        "        inputs = torch.from_numpy(x)\n",
        "        \n",
        "        if(train_on_gpu):\n",
        "            inputs = inputs.cuda()\n",
        "        \n",
        "        # detach hidden state from history\n",
        "        h = tuple([each.data for each in h])\n",
        "        # get the output of the model\n",
        "        out, h = net(inputs, h)\n",
        "\n",
        "        # get the character probabilities\n",
        "        p = F.softmax(out, dim=1).data\n",
        "        if(train_on_gpu):\n",
        "            p = p.cpu() # move to cpu\n",
        "        \n",
        "        # get top characters\n",
        "        if top_k is None:\n",
        "            top_ch = np.arange(len(net.chars))\n",
        "        else:\n",
        "            p, top_ch = p.topk(top_k)\n",
        "            top_ch = top_ch.numpy().squeeze()\n",
        "        \n",
        "        # select the likely next character with some element of randomness\n",
        "        p = p.numpy().squeeze()\n",
        "        char = np.random.choice(top_ch, p=p/p.sum())\n",
        "        \n",
        "        # return the encoded value of the predicted char and the hidden state\n",
        "        return net.int2char[char], h"
      ],
      "execution_count": 0,
      "outputs": []
    },
    {
      "cell_type": "markdown",
      "metadata": {
        "id": "tT1zMJRidz3x",
        "colab_type": "text"
      },
      "source": [
        "### Priming and generating text \n",
        "\n",
        "Typically you'll want to prime the network so you can build up a hidden state. Otherwise the network will start out generating characters at random. In general the first bunch of characters will be a little rough since it hasn't built up a long history of characters to predict from."
      ]
    },
    {
      "cell_type": "code",
      "metadata": {
        "id": "VLtcfJQMdz3x",
        "colab_type": "code",
        "colab": {}
      },
      "source": [
        "def sample(net, size, prime='The', top_k=None):\n",
        "        \n",
        "    if(train_on_gpu):\n",
        "        net.cuda()\n",
        "    else:\n",
        "        net.cpu()\n",
        "    \n",
        "    net.eval() # eval mode\n",
        "    \n",
        "    # First off, run through the prime characters\n",
        "    chars = [ch for ch in prime]\n",
        "    h = net.init_hidden(1)\n",
        "    for ch in prime:\n",
        "        char, h = predict(net, ch, h, top_k=top_k)\n",
        "\n",
        "    chars.append(char)\n",
        "    \n",
        "    # Now pass in the previous character and get a new one\n",
        "    for ii in range(size):\n",
        "        char, h = predict(net, chars[-1], h, top_k=top_k)\n",
        "        chars.append(char)\n",
        "\n",
        "    return ''.join(chars)"
      ],
      "execution_count": 0,
      "outputs": []
    },
    {
      "cell_type": "code",
      "metadata": {
        "id": "SsdlaoF1dz3z",
        "colab_type": "code",
        "colab": {
          "base_uri": "https://localhost:8080/",
          "height": 411
        },
        "outputId": "b40b80a8-8a3b-47ae-a2b1-e3e5ff26d9ee"
      },
      "source": [
        "print(sample(net, 1000, prime='Anna', top_k=5))"
      ],
      "execution_count": 19,
      "outputs": [
        {
          "output_type": "stream",
          "text": [
            "Annad this thing whom seed her wort he as hortins\n",
            "to\n",
            "wat the coudsed, as\n",
            "an she wish\n",
            "ateses ald werise the sited to was wher the the wincind to at,\n",
            "and sase a te to wan he sas than\n",
            "at seel, sated wan to sant her. The to the, sat his sell to\n",
            "ate sins on sase of talteres had the sith the to to sar he setten to son with atert and, and at she salt, had he was thame her a ther weran of the cotter of, a to he har the wat and the the consteren sind thin to hes and wat sons and\n",
            "hes sat home, hat whe has had sirtited.\"\n",
            "\n",
            "Saled a sire sonser sest and thin hand wom as the thangen. In him he tatter, hit and wat, sas wish houled wange her he atanse to the hem\n",
            "seted tas and and so ther, whe her the sistatisges at whis the sott sat of the cerens his his hit at to he to him.\n",
            "\n",
            "\"Ad, and thint had.\n",
            "\n",
            "\n",
            "Thite him hit to she she so an the houtt he thas\n",
            "with. \"There wher thy the ware his at hom the to chand tithered the tilt.\"\n",
            " I'th, had thas hore settins..\n",
            "\n",
            "And her assess\n",
            "wouss to a the sand hin thort,. And some h\n"
          ],
          "name": "stdout"
        }
      ]
    },
    {
      "cell_type": "markdown",
      "metadata": {
        "id": "-X5FnhJPdz30",
        "colab_type": "text"
      },
      "source": [
        "## Loading a checkpoint"
      ]
    },
    {
      "cell_type": "code",
      "metadata": {
        "id": "EBVyCykedz30",
        "colab_type": "code",
        "colab": {
          "base_uri": "https://localhost:8080/",
          "height": 34
        },
        "outputId": "921a5b25-2fbb-4fd5-925c-ba162dc520b6"
      },
      "source": [
        "# Here we have loaded in a model that trained over 20 epochs `rnn_20_epoch.net`\n",
        "with open('rnn_x_epoch.net', 'rb') as f:\n",
        "    checkpoint = torch.load(f)\n",
        "    \n",
        "loaded = CharRNN(checkpoint['tokens'], n_hidden=checkpoint['n_hidden'], n_layers=checkpoint['n_layers'])\n",
        "loaded.load_state_dict(checkpoint['state_dict'])"
      ],
      "execution_count": 20,
      "outputs": [
        {
          "output_type": "execute_result",
          "data": {
            "text/plain": [
              "<All keys matched successfully>"
            ]
          },
          "metadata": {
            "tags": []
          },
          "execution_count": 20
        }
      ]
    },
    {
      "cell_type": "code",
      "metadata": {
        "id": "1lXEC0aodz31",
        "colab_type": "code",
        "colab": {
          "base_uri": "https://localhost:8080/",
          "height": 496
        },
        "outputId": "d1f43432-e55d-4a66-d651-fac464a4ba79"
      },
      "source": [
        "# Sample using a loaded model\n",
        "print(sample(loaded, 2000, top_k=5, prime=\"And Levin said\"))"
      ],
      "execution_count": 21,
      "outputs": [
        {
          "output_type": "stream",
          "text": [
            "And Levin said were and, har thall at had her wat he tell of, he her sond setes. \"We her sas, tathe, all the hem, tan to\n",
            "she the cite thing him her ant with the setd of woult\n",
            "he\n",
            "there to wint to werid he the,\" the call shit to sor wes he ther the tord, ther he how and ther at and so she, har to wend word, at she thin had\n",
            "the thansers of what shing hit his the condisesens out\n",
            "a to chas tas wart shome has to the\n",
            "warly shat ans had\n",
            "teel and horly to the ser tat ans wowe to when she sale over, the thin shat tind ot the sorss one tho went the has the\n",
            "sare,\" hin hat sistithed shoust to te thing.\"\n",
            "\n",
            "\"Yal te he to the the shate of tho to whing he he soen, to that a the wath he her the sons,\"\n",
            "ser he whitish has has hy wars ot the sead she mane to theriss wore and shutito,\n",
            "wom the her her wime, wist and thould warle, seese hy the wos the the thise hit\n",
            "antater hat hore he\n",
            "wert the wisted a to wang and hordy of sher the\n",
            "tome so solirg on her that\n",
            "to ald were,\n",
            "wort on the wimh on she her a sotten him wat terise over ther sissing,, he sas his hes, than we thing and the wes hem, at sat to to shis her tind word sise her taltirte he\n",
            "wethe her, wouts at the teld, and welt a to hant this wound ser he hossered has hem, wat hit hit thome so seed the sat the sersang tarter the site he son onde tely sat te wist and ses of ther,\n",
            "he his wat at she shit sitt ate and hand hosted of tho shore, wheme\n",
            "that was hin te she wens oven. Ant he tels han sont tho shis sant and her was her had whore\n",
            "hes the wat thin whes were\n",
            "he to timl anl thinge sound.\n",
            "\n",
            "\n",
            "And had werind to and tat the sonded the with tele otes a the sher had the canled she wet the sone sird on weth to to the sers hit se that thir sors her whan her she shing har to thim to houte to tat thor she with thoush that the son ons the hosd, she so thit sore and seed as sher he sard he and hid hit the mothen. He the wesg of sered of. And has sand of a the ther whoutite, hit to ast and him sother her and to sout hit thore,. The sard tantaded the the\n",
            "there to sit\n"
          ],
          "name": "stdout"
        }
      ]
    },
    {
      "cell_type": "code",
      "metadata": {
        "id": "w9Lu90jHdz32",
        "colab_type": "code",
        "colab": {}
      },
      "source": [
        ""
      ],
      "execution_count": 0,
      "outputs": []
    }
  ]
}